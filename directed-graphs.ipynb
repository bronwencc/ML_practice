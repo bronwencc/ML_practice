{
 "cells": [
  {
   "cell_type": "markdown",
   "metadata": {},
   "source": [
    "At a basic level, I think of directed graphs as where the nodes are connected with arrows indicating relationships.\n",
    "\n",
    "In this way, it could be used to represent a social network where not everyone follows everyone else, or a few users are followed by everyone.\n",
    "\n"
   ]
  },
  {
   "cell_type": "code",
   "execution_count": 1,
   "metadata": {},
   "outputs": [],
   "source": [
    "import networkx as nx\n",
    "import logging\n",
    "import pandas as pd"
   ]
  },
  {
   "cell_type": "code",
   "execution_count": 2,
   "metadata": {},
   "outputs": [],
   "source": [
    "#create log file\n",
    "logging.basicConfig(filename=\"directed-graphs.log\",level=20)"
   ]
  },
  {
   "cell_type": "markdown",
   "metadata": {},
   "source": [
    "The relationships I'd like to model are between the scientific classification of the phylum Chordata (chordates).  I am no biologist, so I have used [Wikipedia](https://en.wikipedia.org/wiki/Chordate) for this information.\n",
    "\n",
    "Currently, apart from grouping organisms into the traditional hierarchy of Domain-Kingdom-Phylum-Class-Order-Family-Genus-Species, clades are an alternate way to group, so the information in the graph will be the following:"
   ]
  },
  {
   "cell_type": "code",
   "execution_count": 6,
   "metadata": {},
   "outputs": [
    {
     "data": {
      "text/html": [
       "<div>\n",
       "<style scoped>\n",
       "    .dataframe tbody tr th:only-of-type {\n",
       "        vertical-align: middle;\n",
       "    }\n",
       "\n",
       "    .dataframe tbody tr th {\n",
       "        vertical-align: top;\n",
       "    }\n",
       "\n",
       "    .dataframe thead th {\n",
       "        text-align: right;\n",
       "    }\n",
       "</style>\n",
       "<table border=\"1\" class=\"dataframe\">\n",
       "  <thead>\n",
       "    <tr style=\"text-align: right;\">\n",
       "      <th></th>\n",
       "      <th>Rank</th>\n",
       "      <th>Name</th>\n",
       "      <th>RankNum</th>\n",
       "    </tr>\n",
       "  </thead>\n",
       "  <tbody>\n",
       "    <tr>\n",
       "      <th>0</th>\n",
       "      <td>domain</td>\n",
       "      <td>Eukaryota</td>\n",
       "      <td>1</td>\n",
       "    </tr>\n",
       "    <tr>\n",
       "      <th>1</th>\n",
       "      <td>kingdom</td>\n",
       "      <td>Animalia</td>\n",
       "      <td>2</td>\n",
       "    </tr>\n",
       "    <tr>\n",
       "      <th>2</th>\n",
       "      <td>subkingdom</td>\n",
       "      <td>Eumetazoa</td>\n",
       "      <td>3</td>\n",
       "    </tr>\n",
       "    <tr>\n",
       "      <th>3</th>\n",
       "      <td>clade</td>\n",
       "      <td>ParaHoxozoa</td>\n",
       "      <td>4</td>\n",
       "    </tr>\n",
       "    <tr>\n",
       "      <th>4</th>\n",
       "      <td>clade</td>\n",
       "      <td>Bilateria</td>\n",
       "      <td>4</td>\n",
       "    </tr>\n",
       "    <tr>\n",
       "      <th>5</th>\n",
       "      <td>clade</td>\n",
       "      <td>Nephrozoa</td>\n",
       "      <td>4</td>\n",
       "    </tr>\n",
       "    <tr>\n",
       "      <th>6</th>\n",
       "      <td>superphylum</td>\n",
       "      <td>Deuterostomia</td>\n",
       "      <td>5</td>\n",
       "    </tr>\n",
       "    <tr>\n",
       "      <th>7</th>\n",
       "      <td>phylum</td>\n",
       "      <td>Chordata</td>\n",
       "      <td>6</td>\n",
       "    </tr>\n",
       "    <tr>\n",
       "      <th>8</th>\n",
       "      <td>subphylum</td>\n",
       "      <td>Cephalochordata</td>\n",
       "      <td>7</td>\n",
       "    </tr>\n",
       "    <tr>\n",
       "      <th>9</th>\n",
       "      <td>clade</td>\n",
       "      <td>Olfactores</td>\n",
       "      <td>8</td>\n",
       "    </tr>\n",
       "    <tr>\n",
       "      <th>10</th>\n",
       "      <td>subphylum</td>\n",
       "      <td>Vertebrata</td>\n",
       "      <td>7</td>\n",
       "    </tr>\n",
       "    <tr>\n",
       "      <th>11</th>\n",
       "      <td>subphylum</td>\n",
       "      <td>Tunicata</td>\n",
       "      <td>7</td>\n",
       "    </tr>\n",
       "  </tbody>\n",
       "</table>\n",
       "</div>"
      ],
      "text/plain": [
       "           Rank             Name  RankNum\n",
       "0        domain        Eukaryota        1\n",
       "1       kingdom         Animalia        2\n",
       "2    subkingdom        Eumetazoa        3\n",
       "3         clade      ParaHoxozoa        4\n",
       "4         clade        Bilateria        4\n",
       "5         clade        Nephrozoa        4\n",
       "6   superphylum    Deuterostomia        5\n",
       "7        phylum         Chordata        6\n",
       "8     subphylum  Cephalochordata        7\n",
       "9         clade       Olfactores        8\n",
       "10    subphylum       Vertebrata        7\n",
       "11    subphylum         Tunicata        7"
      ]
     },
     "execution_count": 6,
     "metadata": {},
     "output_type": "execute_result"
    }
   ],
   "source": [
    "taxonomy = [[\"domain\",\"Eukaryota\",1],[\"kingdom\",\"Animalia\",2],[\"subkingdom\",\"Eumetazoa\",3],\n",
    "            [\"clade\",\"ParaHoxozoa\",4],[\"clade\",\"Bilateria\",4],[\"clade\",\"Nephrozoa\",4],[\"superphylum\",\"Deuterostomia\",5],\n",
    "            [\"phylum\",\"Chordata\",6],[\"subphylum\",\"Cephalochordata\",7],[\"clade\",\"Olfactores\",8],\n",
    "            [\"subphylum\",\"Vertebrata\",7],[\"subphylum\",\"Tunicata\",7]]\n",
    "groupdf = pd.DataFrame(data=taxonomy, columns=[\"Rank\",\"Name\",\"RankNum\"])\n",
    "groupdf"
   ]
  },
  {
   "cell_type": "markdown",
   "metadata": {},
   "source": [
    "I will put these into a graph where arrows are mutual for the same rank, but go one way between ranks."
   ]
  },
  {
   "cell_type": "code",
   "execution_count": 7,
   "metadata": {},
   "outputs": [
    {
     "data": {
      "image/png": "[encoded data removed]",
      "text/plain": [
       "<Figure size 432x288 with 1 Axes>"
      ]
     },
     "metadata": {},
     "output_type": "display_data"
    }
   ],
   "source": [
    "#create graph\n",
    "dirG = nx.DiGraph()\n",
    "\n",
    "#add nodes and edges for first three ranks\n",
    "dirG.add_edges_from([(groupdf.iloc[0,1],groupdf.iloc[1,1]),(groupdf.iloc[1,1],groupdf.iloc[2,1])])\n",
    "nx.draw(dirG, with_labels=True)"
   ]
  },
  {
   "cell_type": "code",
   "execution_count": 70,
   "metadata": {},
   "outputs": [
    {
     "name": "stdout",
     "output_type": "stream",
     "text": [
      "[[2, 0], [0, 1], [1, 2]]\n",
      "[[2, 0], [0, 1], [1, 2]]\n"
     ]
    }
   ],
   "source": [
    "#use groupby to separate out ranks\n",
    "for eachgroup in groupdf.groupby(\"RankNum\"):\n",
    "    for i, eachrow in enumerate(eachgroup):\n",
    "        if i!=0:\n",
    "            rowlen = len(eachrow)\n",
    "            if rowlen>1:\n",
    "                comborange = range(rowlen-1)\n",
    "                pairs = [[rowlen-1,0]]\n",
    "                for j in comborange:\n",
    "                    pairs.append([j,j+1])\n",
    "                print(pairs)\n",
    "                for pair in pairs: #loop through those of the same RankNum\n",
    "                    #add an edge for each pairs\n",
    "                    dirG.add_edge(eachrow.iloc[pair[0],1], eachrow.iloc[pair[1],1])#,eachrow.iloc[j,2])"
   ]
  },
  {
   "cell_type": "code",
   "execution_count": 71,
   "metadata": {},
   "outputs": [
    {
     "data": {
      "image/png": "[encoded data removed]",
      "text/plain": [
       "<Figure size 432x288 with 1 Axes>"
      ]
     },
     "metadata": {},
     "output_type": "display_data"
    }
   ],
   "source": [
    "nx.draw(dirG, with_labels=True)"
   ]
  },
  {
   "cell_type": "markdown",
   "metadata": {},
   "source": []
  }
 ],
 "metadata": {
  "kernelspec": {
   "display_name": "Python 3",
   "language": "python",
   "name": "python3"
  },
  "language_info": {
   "codemirror_mode": {
    "name": "ipython",
    "version": 3
   },
   "file_extension": ".py",
   "mimetype": "text/x-python",
   "name": "python",
   "nbconvert_exporter": "python",
   "pygments_lexer": "ipython3",
   "version": "3.8.3"
  }
 },
 "nbformat": 4,
 "nbformat_minor": 4
}

{
 "cells": [
  {
   "cell_type": "code",
   "execution_count": 1,
   "metadata": {},
   "outputs": [],
   "source": [
    "import sqlalchemy\n",
    "from sqlalchemy import create_engine\n",
    "from sqlalchemy import inspect\n",
    "import sqlite3"
   ]
  },
  {
   "cell_type": "code",
   "execution_count": 3,
   "metadata": {},
   "outputs": [],
   "source": [
    "#SQLite block creating SQL tables\n",
    "myengine = create_engine(\"sqlite:///authors_publications.sqlite\")\n",
    "connection = myengine.connect() #connecting to engine\n",
    "inspector = inspect(myengine)"
   ]
  },
  {
   "cell_type": "code",
   "execution_count": null,
   "metadata": {},
   "outputs": [],
   "source": [
    "connection.execute('''CREATE TABLE newtable (col1 INT, col2 FLOAT, col3 STRING)''')"
   ]
  },
  {
   "cell_type": "code",
   "execution_count": 4,
   "metadata": {},
   "outputs": [
    {
     "name": "stdout",
     "output_type": "stream",
     "text": [
      "['newtable', 'nobelscientists']\n"
     ]
    }
   ],
   "source": [
    "print(inspector.get_table_names())#check the table names"
   ]
  },
  {
   "cell_type": "code",
   "execution_count": null,
   "metadata": {},
   "outputs": [],
   "source": [
    "#create new table in SQL database\n",
    "connection.execute('''CREATE TABLE nobelscientists (col1 INT, col2 STRING, col3 STRING, col4 INT, col5 STRING, col6 STRING)''')"
   ]
  },
  {
   "cell_type": "code",
   "execution_count": 5,
   "metadata": {},
   "outputs": [
    {
     "data": {
      "text/plain": [
       "['col1', 'col2', 'col3', 'col4', 'col5', 'col6']"
      ]
     },
     "execution_count": 5,
     "metadata": {},
     "output_type": "execute_result"
    }
   ],
   "source": [
    "#check column names\n",
    "cols = inspector.get_columns(\"nobelscientists\")\n",
    "nameCols = []\n",
    "for col in cols:\n",
    "    nameCols.append(col['name'])\n",
    "nameCols"
   ]
  },
  {
   "cell_type": "code",
   "execution_count": null,
   "metadata": {},
   "outputs": [],
   "source": [
    "#convert a CSV file to a SQL table\n",
    "tablename = \"nobelscientists\"\n",
    "filepath = \"/files/science10years.csv\"\n",
    "#WITH (FIRSTROW = 2,  FIELDTERMINATOR = ',', ROWTERMINATOR='\\n');"
   ]
  },
  {
   "cell_type": "code",
   "execution_count": null,
   "metadata": {},
   "outputs": [],
   "source": []
  },
  {
   "cell_type": "code",
   "execution_count": null,
   "metadata": {},
   "outputs": [],
   "source": []
  }
 ],
 "metadata": {
  "kernelspec": {
   "display_name": "Python 3",
   "language": "python",
   "name": "python3"
  },
  "language_info": {
   "codemirror_mode": {
    "name": "ipython",
    "version": 3
   },
   "file_extension": ".py",
   "mimetype": "text/x-python",
   "name": "python",
   "nbconvert_exporter": "python",
   "pygments_lexer": "ipython3",
   "version": "3.8.3"
  }
 },
 "nbformat": 4,
 "nbformat_minor": 4
}

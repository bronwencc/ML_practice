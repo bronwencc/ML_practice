{
 "cells": [
  {
   "cell_type": "markdown",
   "metadata": {},
   "source": [
    "Currently encountering a decoding error when reading in the .CSV file."
   ]
  },
  {
   "cell_type": "code",
   "execution_count": null,
   "metadata": {},
   "outputs": [],
   "source": [
    "import sqlalchemy\n",
    "from sqlalchemy import create_engine\n",
    "from sqlalchemy import inspect\n",
    "import sqlite3\n",
    "import csv\n",
    "import os"
   ]
  },
  {
   "cell_type": "markdown",
   "metadata": {},
   "source": [
    "##### Using sqlalchemy to create SQL tables"
   ]
  },
  {
   "cell_type": "code",
   "execution_count": null,
   "metadata": {},
   "outputs": [],
   "source": [
    "#SQL block connecting with sqlalchemy\n",
    "myengine = create_engine(\"sqlite:///authors_publications.sqlite\")\n",
    "alconnection = myengine.connect() #connecting to engine\n",
    "inspector = inspect(myengine)"
   ]
  },
  {
   "cell_type": "code",
   "execution_count": null,
   "metadata": {},
   "outputs": [],
   "source": [
    "alconnection.execute('''CREATE TABLE IF NOT EXISTS newtable (col1 INT, col2 FLOAT, col3 STRING)''')"
   ]
  },
  {
   "cell_type": "code",
   "execution_count": null,
   "metadata": {},
   "outputs": [],
   "source": [
    "print(inspector.get_table_names())#check the table names"
   ]
  },
  {
   "cell_type": "code",
   "execution_count": null,
   "metadata": {},
   "outputs": [],
   "source": [
    "#create new table in SQL database\n",
    "alconnection.execute('''CREATE TABLE IF NOT EXISTS nobelscientists (col1 INT, col2 STRING, col3 STRING, col4 INT, col5 STRING, col6 STRING)''')"
   ]
  },
  {
   "cell_type": "code",
   "execution_count": null,
   "metadata": {},
   "outputs": [],
   "source": [
    "#check column names\n",
    "cols = inspector.get_columns(\"nobelscientists\")\n",
    "nameCols = []\n",
    "for col in cols:\n",
    "    nameCols.append(col['name'])\n",
    "nameCols"
   ]
  },
  {
   "cell_type": "code",
   "execution_count": null,
   "metadata": {},
   "outputs": [],
   "source": [
    "alconnection.close()"
   ]
  },
  {
   "cell_type": "code",
   "execution_count": null,
   "metadata": {},
   "outputs": [],
   "source": [
    "#file location\n",
    "tablename = \"nobelscientists\"\n",
    "file = \"files/science10years.csv\"\n",
    "#WITH (FIRSTROW = 2,  FIELDTERMINATOR = ',', ROWTERMINATOR='\\n');"
   ]
  },
  {
   "cell_type": "code",
   "execution_count": null,
   "metadata": {},
   "outputs": [],
   "source": [
    "#create path to .CSV file\n",
    "currentpath = os.curdir\n",
    "filepath = os.path.join(currentpath,file)"
   ]
  },
  {
   "cell_type": "markdown",
   "metadata": {},
   "source": [
    "##### Using sqlite3 to put information into the SQL table"
   ]
  },
  {
   "cell_type": "code",
   "execution_count": null,
   "metadata": {},
   "outputs": [],
   "source": [
    "#connecting to SQL table with sqlite3\n",
    "connection = sqlite3.connect(\"authors_publications.sqlite\")"
   ]
  },
  {
   "cell_type": "code",
   "execution_count": null,
   "metadata": {},
   "outputs": [],
   "source": [
    "cursor = connection.cursor()"
   ]
  },
  {
   "cell_type": "code",
   "execution_count": null,
   "metadata": {},
   "outputs": [],
   "source": [
    "with open(filepath, newline='') as csvfile: #open CSV file\n",
    "    lines = csv.reader(csvfile, delimiter=' ', quotechar='|')#from csv package documentation on how to read in a CSV\n",
    "    for i, eachline in enumerate(lines): #loop through each row in the file\n",
    "        vals = eachline #needs to be in a list or tuple format\n",
    "        if i<3:\n",
    "            print(vals)\n",
    "        else:\n",
    "            break\n",
    "        #cursor.execute('''INSERT INTO nobelscientists VALUES (?,?,?,?,?,?)''',vals) #add row's values to SQL table"
   ]
  },
  {
   "cell_type": "code",
   "execution_count": null,
   "metadata": {},
   "outputs": [],
   "source": []
  }
 ],
 "metadata": {
  "kernelspec": {
   "display_name": "Python 3",
   "language": "python",
   "name": "python3"
  },
  "language_info": {
   "codemirror_mode": {
    "name": "ipython",
    "version": 3
   },
   "file_extension": ".py",
   "mimetype": "text/x-python",
   "name": "python",
   "nbconvert_exporter": "python",
   "pygments_lexer": "ipython3",
   "version": "3.8.5"
  }
 },
 "nbformat": 4,
 "nbformat_minor": 4
}
